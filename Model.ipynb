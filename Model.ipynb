{
 "cells": [
  {
   "cell_type": "code",
   "execution_count": 1,
   "id": "40164910",
   "metadata": {},
   "outputs": [
    {
     "name": "stdout",
     "output_type": "stream",
     "text": [
      "Total chunks loaded: 638\n",
      "Pehle chunk ka example:\n",
      "VOLUME | SUPPLEMENT | PAGES S1–S322 THE JOURNAL OF CLINICAL AND APPLIED RESEARCH AND EDUCATION JANUA...\n"
     ]
    }
   ],
   "source": [
    "import json\n",
    "\n",
    "# Apni file ka path yahan daalo\n",
    "file_path = r\"diabetes_knowledge_base (1).json\"\n",
    "\n",
    "chunks = []\n",
    "with open(file_path, 'r', encoding='utf-8') as f:\n",
    "    data = json.load(f)\n",
    "    for item in data:\n",
    "        if 'text' in item and item['text']:\n",
    "            # Har 'text' entry ko ek chunk maan rahe hain\n",
    "            chunks.append(item['text'])\n",
    "\n",
    "print(f\"Total chunks loaded: {len(chunks)}\")\n",
    "print(\"Pehle chunk ka example:\")\n",
    "print(chunks[0][:100] + \"...\")"
   ]
  },
  {
   "cell_type": "code",
   "execution_count": 2,
   "id": "909bb1c4",
   "metadata": {},
   "outputs": [
    {
     "name": "stderr",
     "output_type": "stream",
     "text": [
      "/usr/local/python/3.12.1/lib/python3.12/site-packages/tqdm/auto.py:21: TqdmWarning: IProgress not found. Please update jupyter and ipywidgets. See https://ipywidgets.readthedocs.io/en/stable/user_install.html\n",
      "  from .autonotebook import tqdm as notebook_tqdm\n"
     ]
    },
    {
     "name": "stdout",
     "output_type": "stream",
     "text": [
      "Embeddings ban gaye!\n",
      "Shape of embeddings: (638, 384)\n"
     ]
    }
   ],
   "source": [
    "from sentence_transformers import SentenceTransformer\n",
    "\n",
    "# Yeh model text ko embeddings mein badlega\n",
    "model = SentenceTransformer('all-MiniLM-L6-v2')\n",
    "\n",
    "# Saare chunks ke embeddings ek saath banao\n",
    "chunk_embeddings = model.encode(chunks)\n",
    "\n",
    "print(\"Embeddings ban gaye!\")\n",
    "print(f\"Shape of embeddings: {chunk_embeddings.shape}\")"
   ]
  },
  {
   "cell_type": "code",
   "execution_count": 6,
   "id": "bcab2d43",
   "metadata": {},
   "outputs": [
    {
     "name": "stdout",
     "output_type": "stream",
     "text": [
      "Vector database ban gaya aur embeddings add ho gaye.\n",
      "FAISS index saved successfully.\n"
     ]
    }
   ],
   "source": [
    "import faiss\n",
    "import numpy as np\n",
    "\n",
    "# Embeddings ko FAISS ke liye taiyar karo\n",
    "chunk_embeddings_np = np.array(chunk_embeddings).astype('float32')\n",
    "\n",
    "# FAISS index banao aur embeddings usmein add karo\n",
    "index = faiss.IndexFlatL2(chunk_embeddings_np.shape[1])\n",
    "index.add(chunk_embeddings_np)\n",
    "\n",
    "print(\"Vector database ban gaya aur embeddings add ho gaye.\")\n",
    "\n",
    "# Ab isko save kar lo taaki agli baar dobara na banana pade\n",
    "faiss.write_index(index, \"diabetes_faiss_index.bin\")\n",
    "print(\"FAISS index saved successfully.\")"
   ]
  },
  {
   "cell_type": "code",
   "execution_count": 4,
   "id": "b6f15d91",
   "metadata": {},
   "outputs": [],
   "source": [
    "from sentence_transformers import SentenceTransformer\n",
    "embedding_model = SentenceTransformer(\"sentence-transformers/all-MiniLM-L6-v2\")"
   ]
  },
  {
   "cell_type": "code",
   "execution_count": null,
   "id": "2190e758",
   "metadata": {},
   "outputs": [],
   "source": []
  }
 ],
 "metadata": {
  "kernelspec": {
   "display_name": "Python 3",
   "language": "python",
   "name": "python3"
  },
  "language_info": {
   "codemirror_mode": {
    "name": "ipython",
    "version": 3
   },
   "file_extension": ".py",
   "mimetype": "text/x-python",
   "name": "python",
   "nbconvert_exporter": "python",
   "pygments_lexer": "ipython3",
   "version": "3.12.1"
  }
 },
 "nbformat": 4,
 "nbformat_minor": 5
}
